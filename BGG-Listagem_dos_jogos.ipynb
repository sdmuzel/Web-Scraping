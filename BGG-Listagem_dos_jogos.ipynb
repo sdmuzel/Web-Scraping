{
 "cells": [
  {
   "cell_type": "markdown",
   "metadata": {},
   "source": [
    "# Web Scraping - Listagem de todos os jogos cadastrados no BGG\n",
    "\n",
    "Projeto para fazer a respagem dos dados de todos os jogos cadastrados no BGG, e avaliar quais são os anos que a maior partes deles foi lançada.\n",
    "\n",
    "- Dados: https://boardgamegeek.com/browse/boardgame"
   ]
  },
  {
   "cell_type": "code",
   "execution_count": 1,
   "metadata": {},
   "outputs": [],
   "source": [
    "import pandas as pd\n",
    "import requests\n",
    "from bs4 import BeautifulSoup"
   ]
  },
  {
   "cell_type": "markdown",
   "metadata": {},
   "source": [
    "No site do BGG há 1330 páginas com jogos, então primeiramente temos que fazer a coleta de todos as páginas do site"
   ]
  },
  {
   "cell_type": "code",
   "execution_count": 41,
   "metadata": {},
   "outputs": [],
   "source": [
    "pages = []\n",
    "\n",
    "for i in range(1, 1331):\n",
    "    url = 'https://boardgamegeek.com/browse/boardgame/page/' + str(i)\n",
    "    pages.append(url)"
   ]
  },
  {
   "cell_type": "code",
   "execution_count": null,
   "metadata": {},
   "outputs": [],
   "source": [
    "for url in pages:\n",
    "    page = requests.get(url).text \n",
    "    soupBGG = BeautifulSoup (page, 'html.parser')\n",
    "    \n",
    "    for tab in soupBGG.find_all(\"tr\", attrs={\"id\": \"row_\"}):\n",
    "               \n",
    "        classe = tab.find(class_=\"collection_thumbnail\")\n",
    "        if classe.find('img') is not None:\n",
    "            img = classe.find('img')['src']\n",
    "            print (img)\n",
    "        else:\n",
    "            print('sem imagem')\n",
    "\n",
    "\n",
    "                 \n",
    "               "
   ]
  },
  {
   "cell_type": "markdown",
   "metadata": {},
   "source": [
    "Em seguida temos que fazer o requeste de todos as urls coletadas \n"
   ]
  },
  {
   "cell_type": "code",
   "execution_count": 123,
   "metadata": {},
   "outputs": [],
   "source": [
    "lista_jogos = []\n",
    "\n",
    "for url in pages:\n",
    "    page = requests.get(url).text \n",
    "    soupBGG = BeautifulSoup (page, 'html.parser')\n",
    "    \n",
    "    for tab in soupBGG.find_all(\"tr\", attrs={\"id\": \"row_\"}):\n",
    "        \n",
    "        dados_jogo = []\n",
    "\n",
    "        # filtrando o ranking\n",
    "        ranking = tab.find(class_=\"collection_rank\")\n",
    "        rank = ranking.text.strip() # .strip() para tirar os espaços antes e depois da string  \n",
    "        dados_jogo.append(rank)\n",
    "\n",
    "\n",
    "        # filtrando a capa      \n",
    "        classe = tab.find(class_=\"collection_thumbnail\")\n",
    "        if classe.find('img') is not None:\n",
    "            capa = classe.find('img')['src']\n",
    "            dados_jogo.append(capa)\n",
    "        else:\n",
    "            dados_jogo.append('Missing image')          \n",
    "                          \n",
    "\n",
    "                \n",
    "        # filtrando o link da pag do jogo\n",
    "        link_jogo = tab.find(class_=\"primary\")\n",
    "        link_jogo[\"href\"]\n",
    "        link_pag = \"https://boardgamegeek.com\" + link_jogo[\"href\"]\n",
    "        dados_jogo.append(link_pag)\n",
    "\n",
    "        # filtrando o nome do jogo\n",
    "        nome_dos_jogos = tab.find(class_=\"primary\")\n",
    "        nome = nome_dos_jogos.text\n",
    "        dados_jogo.append(nome)\n",
    "\n",
    "        # filtrando a data de lançamento\n",
    "        ano_lancamento = tab.find(class_=\"smallerfont dull\")\n",
    "        if ano_lancamento != None:\n",
    "            ano = ano_lancamento.text.strip('(').strip(')') # strip é para tirar os parenteses\n",
    "            dados_jogo.append(ano)\n",
    "        else:\n",
    "            ano = \"Not Available\"\n",
    "            dados_jogo.append(ano)\n",
    "            \n",
    "            \n",
    "        # filtrando a classificação do jogo\n",
    "        notas = tab.find(class_=\"collection_bggrating\") # usando somente find, porque quero a primeira nota\n",
    "        nota_GeekRating = notas.text.strip() # .strip() para tirar os espaços antes e depois da string\n",
    "        dados_jogo.append(nota_GeekRating)\n",
    "\n",
    "        # add as partes para a lista \"lista_jogos\"\n",
    "        lista_jogos.append(dados_jogo) "
   ]
  },
  {
   "cell_type": "markdown",
   "metadata": {},
   "source": [
    "Agora podemos tranformar essa lista em um dataFrame e trabalhar nos dados com o pandas"
   ]
  },
  {
   "cell_type": "code",
   "execution_count": 134,
   "metadata": {},
   "outputs": [
    {
     "data": {
      "text/html": [
       "<div><div id=e67a5d98-ca71-47f6-8a7a-c5e4fd491714 style=\"display:none; background-color:#9D6CFF; color:white; width:200px; height:30px; padding-left:5px; border-radius:4px; flex-direction:row; justify-content:space-around; align-items:center;\" onmouseover=\"this.style.backgroundColor='#BA9BF8'\" onmouseout=\"this.style.backgroundColor='#9D6CFF'\" onclick=\"window.commands?.execute('create-mitosheet-from-dataframe-output');\">See Full Dataframe in Mito</div> <script> if (window.commands.hasCommand('create-mitosheet-from-dataframe-output')) document.getElementById('e67a5d98-ca71-47f6-8a7a-c5e4fd491714').style.display = 'flex' </script> <table border=\"1\" class=\"dataframe\">\n",
       "  <thead>\n",
       "    <tr style=\"text-align: right;\">\n",
       "      <th></th>\n",
       "      <th>BG_Rank</th>\n",
       "      <th>Box_Image</th>\n",
       "      <th>Link</th>\n",
       "      <th>Title</th>\n",
       "      <th>Year</th>\n",
       "      <th>Geek_Rating</th>\n",
       "    </tr>\n",
       "  </thead>\n",
       "  <tbody>\n",
       "    <tr>\n",
       "      <th>0</th>\n",
       "      <td>1</td>\n",
       "      <td>https://cf.geekdo-images.com/sZYp_3BTDGjh2unaZfZmuA__micro/img/sQyh47ClBO3d5sxPm73hMvM-JV4=/fit-in/64x64/filters:strip_icc()/pic2437871.jpg</td>\n",
       "      <td>https://boardgamegeek.com/boardgame/174430/gloomhaven</td>\n",
       "      <td>Gloomhaven</td>\n",
       "      <td>2017</td>\n",
       "      <td>8.511</td>\n",
       "    </tr>\n",
       "    <tr>\n",
       "      <th>1</th>\n",
       "      <td>2</td>\n",
       "      <td>https://cf.geekdo-images.com/-Qer2BBPG7qGGDu6KcVDIw__micro/img/n6-sXYD6XXZoqIxq4P6AG7VPCuA=/fit-in/64x64/filters:strip_icc()/pic2452831.png</td>\n",
       "      <td>https://boardgamegeek.com/boardgame/161936/pandemic-legacy-season-1</td>\n",
       "      <td>Pandemic Legacy: Season 1</td>\n",
       "      <td>2015</td>\n",
       "      <td>8.444</td>\n",
       "    </tr>\n",
       "    <tr>\n",
       "      <th>2</th>\n",
       "      <td>3</td>\n",
       "      <td>https://cf.geekdo-images.com/x3zxjr-Vw5iU4yDPg70Jgw__micro/img/4Od3GYCiqptga0VbmyumPbJlBsU=/fit-in/64x64/filters:strip_icc()/pic3490053.jpg</td>\n",
       "      <td>https://boardgamegeek.com/boardgame/224517/brass-birmingham</td>\n",
       "      <td>Brass: Birmingham</td>\n",
       "      <td>2018</td>\n",
       "      <td>8.417</td>\n",
       "    </tr>\n",
       "    <tr>\n",
       "      <th>3</th>\n",
       "      <td>4</td>\n",
       "      <td>https://cf.geekdo-images.com/wg9oOLcsKvDesSUdZQ4rxw__micro/img/LUkXZhd1TO80eCiXMD3-KfnzA6k=/fit-in/64x64/filters:strip_icc()/pic3536616.jpg</td>\n",
       "      <td>https://boardgamegeek.com/boardgame/167791/terraforming-mars</td>\n",
       "      <td>Terraforming Mars</td>\n",
       "      <td>2016</td>\n",
       "      <td>8.273</td>\n",
       "    </tr>\n",
       "    <tr>\n",
       "      <th>4</th>\n",
       "      <td>5</td>\n",
       "      <td>https://cf.geekdo-images.com/_Ppn5lssO5OaildSE-FgFA__micro/img/2gymaKs35_2yj7eyyA6cYyVmd9c=/fit-in/64x64/filters:strip_icc()/pic3727516.jpg</td>\n",
       "      <td>https://boardgamegeek.com/boardgame/233078/twilight-imperium-fourth-edition</td>\n",
       "      <td>Twilight Imperium: Fourth Edition</td>\n",
       "      <td>2017</td>\n",
       "      <td>8.260</td>\n",
       "    </tr>\n",
       "  </tbody>\n",
       "</table></div>"
      ],
      "text/plain": [
       "  BG_Rank                                          Box_Image  \\\n",
       "0       1  https://cf.geekdo-images.com/sZYp_3BTDGjh2unaZ...   \n",
       "1       2  https://cf.geekdo-images.com/-Qer2BBPG7qGGDu6K...   \n",
       "2       3  https://cf.geekdo-images.com/x3zxjr-Vw5iU4yDPg...   \n",
       "3       4  https://cf.geekdo-images.com/wg9oOLcsKvDesSUdZ...   \n",
       "4       5  https://cf.geekdo-images.com/_Ppn5lssO5OaildSE...   \n",
       "\n",
       "                                                Link  \\\n",
       "0  https://boardgamegeek.com/boardgame/174430/glo...   \n",
       "1  https://boardgamegeek.com/boardgame/161936/pan...   \n",
       "2  https://boardgamegeek.com/boardgame/224517/bra...   \n",
       "3  https://boardgamegeek.com/boardgame/167791/ter...   \n",
       "4  https://boardgamegeek.com/boardgame/233078/twi...   \n",
       "\n",
       "                               Title  Year Geek_Rating  \n",
       "0                         Gloomhaven  2017       8.511  \n",
       "1          Pandemic Legacy: Season 1  2015       8.444  \n",
       "2                  Brass: Birmingham  2018       8.417  \n",
       "3                  Terraforming Mars  2016       8.273  \n",
       "4  Twilight Imperium: Fourth Edition  2017       8.260  "
      ]
     },
     "execution_count": 134,
     "metadata": {},
     "output_type": "execute_result"
    }
   ],
   "source": [
    "jogos_df = pd.DataFrame(lista_jogos, columns=['BG_Rank', 'Box_Image', 'Link', 'Title', 'Year', 'Geek_Rating'])\n",
    "\n",
    "jogos_df.head()"
   ]
  },
  {
   "cell_type": "code",
   "execution_count": 125,
   "metadata": {},
   "outputs": [
    {
     "data": {
      "text/html": [
       "<div><div id=3ffbd5e6-3cc9-484e-97d5-3dda4bc91a6f style=\"display:none; background-color:#9D6CFF; color:white; width:200px; height:30px; padding-left:5px; border-radius:4px; flex-direction:row; justify-content:space-around; align-items:center;\" onmouseover=\"this.style.backgroundColor='#BA9BF8'\" onmouseout=\"this.style.backgroundColor='#9D6CFF'\" onclick=\"window.commands?.execute('create-mitosheet-from-dataframe-output');\">See Full Dataframe in Mito</div> <script> if (window.commands.hasCommand('create-mitosheet-from-dataframe-output')) document.getElementById('3ffbd5e6-3cc9-484e-97d5-3dda4bc91a6f').style.display = 'flex' </script> <table border=\"1\" class=\"dataframe\">\n",
       "  <thead>\n",
       "    <tr style=\"text-align: right;\">\n",
       "      <th></th>\n",
       "      <th>BG_Rank</th>\n",
       "      <th>Box_Image</th>\n",
       "      <th>Link</th>\n",
       "      <th>Title</th>\n",
       "      <th>Year</th>\n",
       "      <th>Geek_Rating</th>\n",
       "    </tr>\n",
       "  </thead>\n",
       "  <tbody>\n",
       "    <tr>\n",
       "      <th>132969</th>\n",
       "      <td>N/A</td>\n",
       "      <td>https://cf.geekdo-images.com/zxVVmggfpHJpmnJY9j-k1w__micro/img/6OZE0C5RkxED46qU_A2oi1t7208=/fit-in/64x64/filters:strip_icc()/pic1657689.jpg</td>\n",
       "      <td>https://boardgamegeek.com/boardgame/353889/circles</td>\n",
       "      <td>Circles</td>\n",
       "      <td>2022</td>\n",
       "      <td>N/A</td>\n",
       "    </tr>\n",
       "    <tr>\n",
       "      <th>132970</th>\n",
       "      <td>N/A</td>\n",
       "      <td>https://cf.geekdo-images.com/WW7KDwiA7g3CgnVxA3cSrg__micro/img/52eCTVn-kJF3ZMFrwmkn5N__h3k=/fit-in/64x64/filters:strip_icc()/pic6595331.png</td>\n",
       "      <td>https://boardgamegeek.com/boardgameexpansion/353890/witchstone-full-moon</td>\n",
       "      <td>Witchstone: Full Moon</td>\n",
       "      <td>2022</td>\n",
       "      <td>N/A</td>\n",
       "    </tr>\n",
       "    <tr>\n",
       "      <th>132971</th>\n",
       "      <td>N/A</td>\n",
       "      <td>https://cf.geekdo-images.com/zxVVmggfpHJpmnJY9j-k1w__micro/img/6OZE0C5RkxED46qU_A2oi1t7208=/fit-in/64x64/filters:strip_icc()/pic1657689.jpg</td>\n",
       "      <td>https://boardgamegeek.com/boardgameexpansion/353891/hexa-ruins-island-crocodiles-and-drakes</td>\n",
       "      <td>ヘクサ・ルインス 〜クロコダイルとドレイクの島〜 (Hexa Ruins: The Island of Crocodiles and Drakes -)</td>\n",
       "      <td>2021</td>\n",
       "      <td>N/A</td>\n",
       "    </tr>\n",
       "    <tr>\n",
       "      <th>132972</th>\n",
       "      <td>N/A</td>\n",
       "      <td>https://cf.geekdo-images.com/zxVVmggfpHJpmnJY9j-k1w__micro/img/6OZE0C5RkxED46qU_A2oi1t7208=/fit-in/64x64/filters:strip_icc()/pic1657689.jpg</td>\n",
       "      <td>https://boardgamegeek.com/boardgame/353892/5-sekund-dzieci-kontra-dorosli</td>\n",
       "      <td>5 Sekund: Dzieci kontra Dorośli</td>\n",
       "      <td>2021</td>\n",
       "      <td>N/A</td>\n",
       "    </tr>\n",
       "    <tr>\n",
       "      <th>132973</th>\n",
       "      <td>N/A</td>\n",
       "      <td>https://cf.geekdo-images.com/zxVVmggfpHJpmnJY9j-k1w__micro/img/6OZE0C5RkxED46qU_A2oi1t7208=/fit-in/64x64/filters:strip_icc()/pic1657689.jpg</td>\n",
       "      <td>https://boardgamegeek.com/boardgame/353906/madness-hour</td>\n",
       "      <td>Madness Hour / マッドネスアワー</td>\n",
       "      <td>2021</td>\n",
       "      <td>N/A</td>\n",
       "    </tr>\n",
       "  </tbody>\n",
       "</table></div>"
      ],
      "text/plain": [
       "       BG_Rank                                          Box_Image  \\\n",
       "132969     N/A  https://cf.geekdo-images.com/zxVVmggfpHJpmnJY9...   \n",
       "132970     N/A  https://cf.geekdo-images.com/WW7KDwiA7g3CgnVxA...   \n",
       "132971     N/A  https://cf.geekdo-images.com/zxVVmggfpHJpmnJY9...   \n",
       "132972     N/A  https://cf.geekdo-images.com/zxVVmggfpHJpmnJY9...   \n",
       "132973     N/A  https://cf.geekdo-images.com/zxVVmggfpHJpmnJY9...   \n",
       "\n",
       "                                                     Link  \\\n",
       "132969  https://boardgamegeek.com/boardgame/353889/cir...   \n",
       "132970  https://boardgamegeek.com/boardgameexpansion/3...   \n",
       "132971  https://boardgamegeek.com/boardgameexpansion/3...   \n",
       "132972  https://boardgamegeek.com/boardgame/353892/5-s...   \n",
       "132973  https://boardgamegeek.com/boardgame/353906/mad...   \n",
       "\n",
       "                                                    Title  Year Geek_Rating  \n",
       "132969                                            Circles  2022         N/A  \n",
       "132970                              Witchstone: Full Moon  2022         N/A  \n",
       "132971  ヘクサ・ルインス 〜クロコダイルとドレイクの島〜 (Hexa Ruins: The Isla...  2021         N/A  \n",
       "132972                    5 Sekund: Dzieci kontra Dorośli  2021         N/A  \n",
       "132973                            Madness Hour / マッドネスアワー  2021         N/A  "
      ]
     },
     "execution_count": 125,
     "metadata": {},
     "output_type": "execute_result"
    }
   ],
   "source": [
    "jogos_df.tail()"
   ]
  },
  {
   "cell_type": "code",
   "execution_count": 126,
   "metadata": {},
   "outputs": [
    {
     "data": {
      "text/plain": [
       "(132974, 6)"
      ]
     },
     "execution_count": 126,
     "metadata": {},
     "output_type": "execute_result"
    }
   ],
   "source": [
    "jogos_df.shape "
   ]
  },
  {
   "cell_type": "code",
   "execution_count": 127,
   "metadata": {},
   "outputs": [],
   "source": [
    "jogos_df.to_csv('jogos_bgg.csv', index=False)"
   ]
  },
  {
   "cell_type": "markdown",
   "metadata": {},
   "source": [
    "Avaliando o anos que os jogos foram lançados "
   ]
  },
  {
   "cell_type": "code",
   "execution_count": 129,
   "metadata": {},
   "outputs": [
    {
     "data": {
      "text/plain": [
       "array(['2017', '2015', '2018', '2016', '2020', '2012', '2005', '2011',\n",
       "       '2013', '2007', '2019', '2014', '2002', '2004', '2008', '2006',\n",
       "       '1876', '2010', '1995', '2009', '1997', '1982', '1993', '1999',\n",
       "       '-2200', '1991', '2000', '2003', '1986', '2021', '1992', '1998',\n",
       "       '1996', '1964', '1979', '1980', '1985', '1994', '1475', '2001',\n",
       "       '1990', '1989', '1983', '1630', '1959', '1977', '1800', '1925',\n",
       "       '1984', '1850', '1810', '1988', 'Not Available', '1987', '1971',\n",
       "       '-3000', '1978', '1587', '1981', '1973', '1974', '762', '1962',\n",
       "       '1848', '1903', '1938', '1947', '1960', '1948', '2022', '1895',\n",
       "       '1930', '1972', '1906', '1976', '1967', '1745', '1864', '1946',\n",
       "       '1970', '400', '1883', '1965', '1975', '1966', '1425', '1701',\n",
       "       '1600', '1939', '1969', '1909', '1942', '1904', '700', '1932',\n",
       "       '1963', '1968', '1780', '1870', '1663', '1921', '1715', '1951',\n",
       "       '1956', '550', '1955', '1885', '1860', '1830', '1887', '1796',\n",
       "       '1889', '1890', '1958', '1953', '1680', '1954', '2023', '-2600',\n",
       "       '1802', '1892', '-3500', '1937', '1700', '1949', '1943', '1881',\n",
       "       '1911', '1000', '1950', '1961', '1824', '1534', '1910', '1913',\n",
       "       '1742', '600', '1300', '1940', '1915', '1900', '1941', '1945',\n",
       "       '1952', '1783', '1775', '1899', '1825', '1919', '1441', '1851',\n",
       "       '1400', '1929', '-100', '500', '1936', '1840', '1741', '1801',\n",
       "       '1803', '1897', '1935', '1908', '1755', '1884', '1886', '1934',\n",
       "       '1819', '1957', '-1400', '1933', '1500', '1125', '1931', '1888',\n",
       "       '1927', '1861', '1550', '1750', '1916', '1920', '1866', '1530',\n",
       "       '1893', '1855', '1687', '1150', '1874', '-200', '-1300', '1944',\n",
       "       '-2000', '1822', '1375', '1898', '1842', '1875', '1784', '1905',\n",
       "       '1918', '1907', '1350', '1922', '1917', '1200', '1928', '1912',\n",
       "       '1926', '1896', '1849', '1843', '-350', '1894', '1891', '1924',\n",
       "       '1880', '1914', '1030', '1923', '1815', '1790', '1814', '1818',\n",
       "       '1857', '900', '1202', '1807', '-700', '1575', '1791', '1799',\n",
       "       '1836', '650', '-1800', '1230', '1730', '300', '1759', '1853',\n",
       "       '1872', '1902', '1877', '1283', '1873', '1839', '1845', '1901',\n",
       "       '1770', '1821', '1862', '800', '1747', '1120', '1863', '1859',\n",
       "       '1370', '-2500', '1660', '-600', '1457', '1578', '1806', '1826',\n",
       "       '1856', '1820', '1100', '1760', '1450', '1636', '1774', '1426',\n",
       "       '1835', '1674', '1601', '1662', '1522', '1586', '1794', '1793',\n",
       "       '1809', '1816', '1829', '1846', '1847', '1844', '1854', '1838',\n",
       "       '1828', '1832', '1589', '1804', '1805', '1813', '1611', '1726',\n",
       "       '1811', '1579', '1808', '1650', '1683', '1719', '1720', '1717',\n",
       "       '1645', '1661', '1768', '1766', '1858', '1588', '1740', '1785',\n",
       "       '1869', '1823', '1787', '1865', '1852', '1778', '1878', '1617',\n",
       "       '41', '1868', '220', '1882', '1690', '1227', '1879', '1827',\n",
       "       '1695', '1664', '1538', '2026', '1817', '2025', '2024', '1631',\n",
       "       '2'], dtype=object)"
      ]
     },
     "execution_count": 129,
     "metadata": {},
     "output_type": "execute_result"
    }
   ],
   "source": [
    "jogos_df.Year.unique()"
   ]
  },
  {
   "cell_type": "markdown",
   "metadata": {},
   "source": [
    "Ao verificar os anos de lançamentos, nota-se varios números negativos e um valor 2<br>\n",
    "Verificando o motivo desses valores, contata-se que o site catalogou todos os jogos já mendionados em algum momento da hitória e endo assim colocou a data de quando o jogo foi mencionado pela primeirra vez na história, como o jogo Liubo, datado de ~ 700AC.\n",
    "\n",
    "Já o valor 2 (A Song of Ice & Fire: Tabletop Miniatures Game – Targaryen card update pack), verificou-se que foi um valor digitado errado, e na verade é 2021.Nesse caso esse dado deve ser arrumado\n"
   ]
  },
  {
   "cell_type": "code",
   "execution_count": 136,
   "metadata": {},
   "outputs": [
    {
     "data": {
      "text/html": [
       "<div><div id=75f8e7f9-fc1a-4e8d-88d4-02bd3a6f5c43 style=\"display:none; background-color:#9D6CFF; color:white; width:200px; height:30px; padding-left:5px; border-radius:4px; flex-direction:row; justify-content:space-around; align-items:center;\" onmouseover=\"this.style.backgroundColor='#BA9BF8'\" onmouseout=\"this.style.backgroundColor='#9D6CFF'\" onclick=\"window.commands?.execute('create-mitosheet-from-dataframe-output');\">See Full Dataframe in Mito</div> <script> if (window.commands.hasCommand('create-mitosheet-from-dataframe-output')) document.getElementById('75f8e7f9-fc1a-4e8d-88d4-02bd3a6f5c43').style.display = 'flex' </script> <table border=\"1\" class=\"dataframe\">\n",
       "  <thead>\n",
       "    <tr style=\"text-align: right;\">\n",
       "      <th></th>\n",
       "      <th>BG_Rank</th>\n",
       "      <th>Box_Image</th>\n",
       "      <th>Link</th>\n",
       "      <th>Title</th>\n",
       "      <th>Year</th>\n",
       "      <th>Geek_Rating</th>\n",
       "    </tr>\n",
       "  </thead>\n",
       "  <tbody>\n",
       "    <tr>\n",
       "      <th>130634</th>\n",
       "      <td>N/A</td>\n",
       "      <td>https://cf.geekdo-images.com/zxVVmggfpHJpmnJY9j-k1w__micro/img/6OZE0C5RkxED46qU_A2oi1t7208=/fit-in/64x64/filters:strip_icc()/pic1657689.jpg</td>\n",
       "      <td>https://boardgamegeek.com/boardgameexpansion/348016/song-ice-fire-tabletop-miniatures-game-targaryen-c</td>\n",
       "      <td>A Song of Ice &amp; Fire: Tabletop Miniatures Game – Targaryen card update pack</td>\n",
       "      <td>2</td>\n",
       "      <td>N/A</td>\n",
       "    </tr>\n",
       "  </tbody>\n",
       "</table></div>"
      ],
      "text/plain": [
       "       BG_Rank                                          Box_Image  \\\n",
       "130634     N/A  https://cf.geekdo-images.com/zxVVmggfpHJpmnJY9...   \n",
       "\n",
       "                                                     Link  \\\n",
       "130634  https://boardgamegeek.com/boardgameexpansion/3...   \n",
       "\n",
       "                                                    Title Year Geek_Rating  \n",
       "130634  A Song of Ice & Fire: Tabletop Miniatures Game...    2         N/A  "
      ]
     },
     "execution_count": 136,
     "metadata": {},
     "output_type": "execute_result"
    }
   ],
   "source": [
    "jogos_df.query(\" Year == '2' \")"
   ]
  },
  {
   "cell_type": "code",
   "execution_count": 137,
   "metadata": {},
   "outputs": [],
   "source": [
    "jogos_df.loc[jogos_df.Year == \"2\", \"Year\"] = \"2021\""
   ]
  },
  {
   "cell_type": "code",
   "execution_count": 139,
   "metadata": {},
   "outputs": [
    {
     "data": {
      "text/html": [
       "<div><div id=cf3b0806-c146-4bf2-8056-8349cc1ef809 style=\"display:none; background-color:#9D6CFF; color:white; width:200px; height:30px; padding-left:5px; border-radius:4px; flex-direction:row; justify-content:space-around; align-items:center;\" onmouseover=\"this.style.backgroundColor='#BA9BF8'\" onmouseout=\"this.style.backgroundColor='#9D6CFF'\" onclick=\"window.commands?.execute('create-mitosheet-from-dataframe-output');\">See Full Dataframe in Mito</div> <script> if (window.commands.hasCommand('create-mitosheet-from-dataframe-output')) document.getElementById('cf3b0806-c146-4bf2-8056-8349cc1ef809').style.display = 'flex' </script> <table border=\"1\" class=\"dataframe\">\n",
       "  <thead>\n",
       "    <tr style=\"text-align: right;\">\n",
       "      <th></th>\n",
       "      <th>BG_Rank</th>\n",
       "      <th>Box_Image</th>\n",
       "      <th>Link</th>\n",
       "      <th>Title</th>\n",
       "      <th>Year</th>\n",
       "      <th>Geek_Rating</th>\n",
       "    </tr>\n",
       "  </thead>\n",
       "  <tbody>\n",
       "    <tr>\n",
       "      <th>130634</th>\n",
       "      <td>N/A</td>\n",
       "      <td>https://cf.geekdo-images.com/zxVVmggfpHJpmnJY9j-k1w__micro/img/6OZE0C5RkxED46qU_A2oi1t7208=/fit-in/64x64/filters:strip_icc()/pic1657689.jpg</td>\n",
       "      <td>https://boardgamegeek.com/boardgameexpansion/348016/song-ice-fire-tabletop-miniatures-game-targaryen-c</td>\n",
       "      <td>A Song of Ice &amp; Fire: Tabletop Miniatures Game – Targaryen card update pack</td>\n",
       "      <td>2021</td>\n",
       "      <td>N/A</td>\n",
       "    </tr>\n",
       "  </tbody>\n",
       "</table></div>"
      ],
      "text/plain": [
       "       BG_Rank                                          Box_Image  \\\n",
       "130634     N/A  https://cf.geekdo-images.com/zxVVmggfpHJpmnJY9...   \n",
       "\n",
       "                                                     Link  \\\n",
       "130634  https://boardgamegeek.com/boardgameexpansion/3...   \n",
       "\n",
       "                                                    Title  Year Geek_Rating  \n",
       "130634  A Song of Ice & Fire: Tabletop Miniatures Game...  2021         N/A  "
      ]
     },
     "execution_count": 139,
     "metadata": {},
     "output_type": "execute_result"
    }
   ],
   "source": [
    "jogos_df.query(\" Title == 'A Song of Ice & Fire: Tabletop Miniatures Game – Targaryen card update pack' \")"
   ]
  },
  {
   "cell_type": "code",
   "execution_count": 140,
   "metadata": {},
   "outputs": [],
   "source": [
    "jogos_df.to_csv('jogos_bgg.csv')"
   ]
  }
 ],
 "metadata": {
  "interpreter": {
   "hash": "a3e5c53ec2d4a5f697408540edef06c5b2f3d2815be0e792209162fb59331b8e"
  },
  "kernelspec": {
   "display_name": "Python 3.9.9 64-bit",
   "language": "python",
   "name": "python3"
  },
  "language_info": {
   "codemirror_mode": {
    "name": "ipython",
    "version": 3
   },
   "file_extension": ".py",
   "mimetype": "text/x-python",
   "name": "python",
   "nbconvert_exporter": "python",
   "pygments_lexer": "ipython3",
   "version": "3.9.9"
  },
  "orig_nbformat": 4
 },
 "nbformat": 4,
 "nbformat_minor": 2
}
